{
 "cells": [
  {
   "cell_type": "code",
   "execution_count": 7,
   "id": "d1f6d988",
   "metadata": {
    "ExecuteTime": {
     "end_time": "2023-05-11T13:49:51.712229Z",
     "start_time": "2023-05-11T13:49:51.704488Z"
    }
   },
   "outputs": [],
   "source": [
    "import requests\n",
    "import json\n",
    "import bs4\n",
    "import pandas as pd\n",
    "import os\n",
    "import csv\n",
    "import time\n",
    "import sys\n",
    "import urllib.request\n",
    "from datetime import date\n",
    "from dotenv import load_dotenv\n",
    "from selenium import webdriver\n",
    "from webdriver_manager.chrome import ChromeDriverManager\n",
    "from selenium.webdriver.chrome.options import Options\n",
    "from selenium.webdriver.common.by import By\n",
    "from selenium.webdriver.support.ui import WebDriverWait\n",
    "from selenium.webdriver.support import expected_conditions as EC\n",
    "from selenium.common.exceptions import NoSuchElementException\n",
    "from selenium.common.exceptions import StaleElementReferenceException\n",
    "from selenium.webdriver.chrome.service import Service\n",
    "from json import JSONDecoder\n",
    "from fake_useragent import UserAgent\n"
   ]
  },
  {
   "cell_type": "code",
   "execution_count": 13,
   "id": "d5ad314a",
   "metadata": {
    "ExecuteTime": {
     "end_time": "2023-05-11T13:55:51.321754Z",
     "start_time": "2023-05-11T13:55:48.096256Z"
    }
   },
   "outputs": [
    {
     "name": "stderr",
     "output_type": "stream",
     "text": [
      "/var/folders/jy/fvwm432958vcp25bqxf18ttw0000gn/T/ipykernel_1848/1187132469.py:7: DeprecationWarning: headless property is deprecated, instead check for '--headless' in arguments\n",
      "  chrome_options.headless\n",
      "/var/folders/jy/fvwm432958vcp25bqxf18ttw0000gn/T/ipykernel_1848/1187132469.py:15: DeprecationWarning: executable_path has been deprecated, please pass in a Service object\n",
      "  driver = webdriver.Chrome(\"/Users/brunoantoniofuhr/reposit/project_nfe/chromedriver\")\n"
     ]
    }
   ],
   "source": [
    "# set url\n",
    "url = \"https://www.e-nfs.com.br/e-nfs_canoas/portal/\"\n",
    "\n",
    "# call open browser function\n",
    "chrome_options = Options()\n",
    "chrome_options.add_argument(\"--window-size=1920,1080\")\n",
    "chrome_options.headless\n",
    "chrome_options.add_argument(\"--disable-dev-shm-usage\")\n",
    "chrome_options.add_argument(\"--no-sandbox\")\n",
    "prefs = {\"profile.managed_default_content_settings.images\": 2}\n",
    "chrome_options.add_experimental_option(\"prefs\", prefs)\n",
    "ua = UserAgent()\n",
    "userAgent = ua.random\n",
    "chrome_options.add_argument(f'user-agent={userAgent}')\n",
    "driver = webdriver.Chrome(\"/Users/brunoantoniofuhr/reposit/project_nfe/chromedriver\")\n",
    "driver.get(url)\n",
    "\n",
    "sign_in_link = driver.find_element(\"link text\", \"Login Empresa / Autônomo\")\n",
    "sign_in_link.click()\n",
    "\n",
    "username = WebDriverWait(driver, 15).until(EC.element_to_be_clickable((By.ID, 'USULOGIN')))\n",
    "\n",
    "username.send_keys(\"John Doe\")\n",
    "\n",
    "password = WebDriverWait(driver, 15).until(EC.element_to_be_clickable((By.ID, 'USUPASSWD')))\n",
    "\n",
    "password.send_keys(\"Senha\")\n",
    "\n",
    "# erro arrumado\n",
    "# necessita revisao posterior pelo aviso de DeprecationWarning\n"
   ]
  },
  {
   "cell_type": "code",
   "execution_count": null,
   "id": "b57ef10f",
   "metadata": {
    "ExecuteTime": {
     "end_time": "2023-05-11T13:38:57.998291Z",
     "start_time": "2023-05-11T13:38:56.678394Z"
    }
   },
   "outputs": [],
   "source": []
  },
  {
   "cell_type": "code",
   "execution_count": null,
   "id": "9ccdeeb1",
   "metadata": {
    "ExecuteTime": {
     "end_time": "2023-05-10T23:42:30.480260Z",
     "start_time": "2023-05-10T23:42:30.458041Z"
    }
   },
   "outputs": [],
   "source": []
  },
  {
   "cell_type": "code",
   "execution_count": null,
   "id": "16def134",
   "metadata": {},
   "outputs": [],
   "source": []
  }
 ],
 "metadata": {
  "kernelspec": {
   "display_name": "Python 3 (ipykernel)",
   "language": "python",
   "name": "python3"
  },
  "language_info": {
   "codemirror_mode": {
    "name": "ipython",
    "version": 3
   },
   "file_extension": ".py",
   "mimetype": "text/x-python",
   "name": "python",
   "nbconvert_exporter": "python",
   "pygments_lexer": "ipython3",
   "version": "3.9.16"
  }
 },
 "nbformat": 4,
 "nbformat_minor": 5
}
