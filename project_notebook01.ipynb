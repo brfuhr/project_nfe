{
 "cells": [
  {
   "cell_type": "code",
   "execution_count": 49,
   "id": "d1f6d988",
   "metadata": {
    "ExecuteTime": {
     "end_time": "2023-05-10T23:42:41.862735Z",
     "start_time": "2023-05-10T23:42:41.855898Z"
    }
   },
   "outputs": [],
   "source": [
    "import requests\n",
    "import json\n",
    "import bs4\n",
    "import pandas as pd\n",
    "import os\n",
    "import csv\n",
    "import time\n",
    "import sys\n",
    "import urllib.request\n",
    "from datetime import date\n",
    "from dotenv import load_dotenv\n",
    "from selenium import webdriver\n",
    "from webdriver_manager.chrome import ChromeDriverManager\n",
    "from selenium.webdriver.chrome.options import Options\n",
    "from selenium.webdriver.common.by import By\n",
    "from selenium.webdriver.support.ui import WebDriverWait\n",
    "from selenium.webdriver.support import expected_conditions as EC\n",
    "from selenium.common.exceptions import NoSuchElementException\n",
    "from selenium.common.exceptions import StaleElementReferenceException\n",
    "from json import JSONDecoder\n",
    "from fake_useragent import UserAgent\n"
   ]
  },
  {
   "cell_type": "code",
   "execution_count": 53,
   "id": "d5ad314a",
   "metadata": {
    "ExecuteTime": {
     "end_time": "2023-05-10T23:45:44.694511Z",
     "start_time": "2023-05-10T23:45:40.366935Z"
    }
   },
   "outputs": [
    {
     "name": "stderr",
     "output_type": "stream",
     "text": [
      "/var/folders/jy/fvwm432958vcp25bqxf18ttw0000gn/T/ipykernel_75010/2436245031.py:7: DeprecationWarning: headless property is deprecated, instead check for '--headless' in arguments\n",
      "  chrome_options.headless\n",
      "/var/folders/jy/fvwm432958vcp25bqxf18ttw0000gn/T/ipykernel_75010/2436245031.py:15: DeprecationWarning: executable_path has been deprecated, please pass in a Service object\n",
      "  driver = webdriver.Chrome(\"/Users/brunoantoniofuhr/reposit/project_nfe/chromedriver\")\n"
     ]
    }
   ],
   "source": [
    "# set url\n",
    "url = \"https://www.e-nfs.com.br/e-nfs_canoas/portal/\"\n",
    "\n",
    "# call open browser function\n",
    "chrome_options = Options()\n",
    "chrome_options.add_argument(\"--window-size=1920,1080\")\n",
    "chrome_options.headless\n",
    "chrome_options.add_argument(\"--disable-dev-shm-usage\")\n",
    "chrome_options.add_argument(\"--no-sandbox\")\n",
    "prefs = {\"profile.managed_default_content_settings.images\": 2}\n",
    "chrome_options.add_experimental_option(\"prefs\", prefs)\n",
    "ua = UserAgent()\n",
    "userAgent = ua.random\n",
    "chrome_options.add_argument(f'user-agent={userAgent}')\n",
    "driver = webdriver.Chrome(\"/Users/brunoantoniofuhr/reposit/project_nfe/chromedriver\")\n",
    "driver.get(url)"
   ]
  },
  {
   "cell_type": "code",
   "execution_count": 74,
   "id": "b57ef10f",
   "metadata": {
    "ExecuteTime": {
     "end_time": "2023-05-11T00:18:10.671843Z",
     "start_time": "2023-05-11T00:18:09.488925Z"
    }
   },
   "outputs": [
    {
     "ename": "ElementClickInterceptedException",
     "evalue": "Message: element click intercepted: Element <a ng-show=\"abrirLoginArapiraca || abrirLoginCanoas || abrirLoginLocalhost\" class=\"pricing_action text-center\" ng-click=\"abrirLogin()\" target=\"_blank\">...</a> is not clickable at point (322, 277). Other element would receive the click: <input type=\"text\" class=\"form-control\" id=\"USULOGIN\" placeholder=\"CPF/CNPJ do Prestador\" required=\"\" autofocus=\"\">\n  (Session info: chrome=113.0.5672.92)\nStacktrace:\n0   chromedriver                        0x00000001024ef8ac chromedriver + 4257964\n1   chromedriver                        0x00000001024e7f40 chromedriver + 4226880\n2   chromedriver                        0x00000001021249d4 chromedriver + 281044\n3   chromedriver                        0x0000000102166134 chromedriver + 549172\n4   chromedriver                        0x0000000102164094 chromedriver + 540820\n5   chromedriver                        0x0000000102161fac chromedriver + 532396\n6   chromedriver                        0x000000010216137c chromedriver + 529276\n7   chromedriver                        0x0000000102155984 chromedriver + 481668\n8   chromedriver                        0x00000001021551cc chromedriver + 479692\n9   chromedriver                        0x00000001021967e4 chromedriver + 747492\n10  chromedriver                        0x000000010215398c chromedriver + 473484\n11  chromedriver                        0x000000010215498c chromedriver + 477580\n12  chromedriver                        0x00000001024ae900 chromedriver + 3991808\n13  chromedriver                        0x00000001024b2354 chromedriver + 4006740\n14  chromedriver                        0x00000001024b2940 chromedriver + 4008256\n15  chromedriver                        0x00000001024b833c chromedriver + 4031292\n16  chromedriver                        0x00000001024b2f34 chromedriver + 4009780\n17  chromedriver                        0x000000010248b490 chromedriver + 3847312\n18  chromedriver                        0x00000001024d09f4 chromedriver + 4131316\n19  chromedriver                        0x00000001024d0b4c chromedriver + 4131660\n20  chromedriver                        0x00000001024e1230 chromedriver + 4198960\n21  libsystem_pthread.dylib             0x000000018dc0ffa8 _pthread_start + 148\n22  libsystem_pthread.dylib             0x000000018dc0ada0 thread_start + 8\n",
     "output_type": "error",
     "traceback": [
      "\u001b[0;31m---------------------------------------------------------------------------\u001b[0m",
      "\u001b[0;31mElementClickInterceptedException\u001b[0m          Traceback (most recent call last)",
      "Input \u001b[0;32mIn [74]\u001b[0m, in \u001b[0;36m<cell line: 2>\u001b[0;34m()\u001b[0m\n\u001b[1;32m      1\u001b[0m sign_in_link \u001b[38;5;241m=\u001b[39m driver\u001b[38;5;241m.\u001b[39mfind_element(\u001b[38;5;124m\"\u001b[39m\u001b[38;5;124mlink text\u001b[39m\u001b[38;5;124m\"\u001b[39m, \u001b[38;5;124m\"\u001b[39m\u001b[38;5;124mLogin Empresa / Autônomo\u001b[39m\u001b[38;5;124m\"\u001b[39m)\n\u001b[0;32m----> 2\u001b[0m \u001b[43msign_in_link\u001b[49m\u001b[38;5;241;43m.\u001b[39;49m\u001b[43mclick\u001b[49m\u001b[43m(\u001b[49m\u001b[43m)\u001b[49m\n\u001b[1;32m      6\u001b[0m username \u001b[38;5;241m=\u001b[39m WebDriverWait(driver,\u001b[38;5;241m15\u001b[39m)\u001b[38;5;241m.\u001b[39muntil(EC\u001b[38;5;241m.\u001b[39melement_to_be_clickable(By\u001b[38;5;241m.\u001b[39mID, \u001b[38;5;124m\"\u001b[39m\u001b[38;5;124mUSULOGIN\u001b[39m\u001b[38;5;124m\"\u001b[39m))\n",
      "File \u001b[0;32m~/opt/anaconda3/envs/env_project_nfe/lib/python3.9/site-packages/selenium/webdriver/remote/webelement.py:94\u001b[0m, in \u001b[0;36mWebElement.click\u001b[0;34m(self)\u001b[0m\n\u001b[1;32m     92\u001b[0m \u001b[38;5;28;01mdef\u001b[39;00m \u001b[38;5;21mclick\u001b[39m(\u001b[38;5;28mself\u001b[39m) \u001b[38;5;241m-\u001b[39m\u001b[38;5;241m>\u001b[39m \u001b[38;5;28;01mNone\u001b[39;00m:\n\u001b[1;32m     93\u001b[0m     \u001b[38;5;124;03m\"\"\"Clicks the element.\"\"\"\u001b[39;00m\n\u001b[0;32m---> 94\u001b[0m     \u001b[38;5;28;43mself\u001b[39;49m\u001b[38;5;241;43m.\u001b[39;49m\u001b[43m_execute\u001b[49m\u001b[43m(\u001b[49m\u001b[43mCommand\u001b[49m\u001b[38;5;241;43m.\u001b[39;49m\u001b[43mCLICK_ELEMENT\u001b[49m\u001b[43m)\u001b[49m\n",
      "File \u001b[0;32m~/opt/anaconda3/envs/env_project_nfe/lib/python3.9/site-packages/selenium/webdriver/remote/webelement.py:403\u001b[0m, in \u001b[0;36mWebElement._execute\u001b[0;34m(self, command, params)\u001b[0m\n\u001b[1;32m    401\u001b[0m     params \u001b[38;5;241m=\u001b[39m {}\n\u001b[1;32m    402\u001b[0m params[\u001b[38;5;124m\"\u001b[39m\u001b[38;5;124mid\u001b[39m\u001b[38;5;124m\"\u001b[39m] \u001b[38;5;241m=\u001b[39m \u001b[38;5;28mself\u001b[39m\u001b[38;5;241m.\u001b[39m_id\n\u001b[0;32m--> 403\u001b[0m \u001b[38;5;28;01mreturn\u001b[39;00m \u001b[38;5;28;43mself\u001b[39;49m\u001b[38;5;241;43m.\u001b[39;49m\u001b[43m_parent\u001b[49m\u001b[38;5;241;43m.\u001b[39;49m\u001b[43mexecute\u001b[49m\u001b[43m(\u001b[49m\u001b[43mcommand\u001b[49m\u001b[43m,\u001b[49m\u001b[43m \u001b[49m\u001b[43mparams\u001b[49m\u001b[43m)\u001b[49m\n",
      "File \u001b[0;32m~/opt/anaconda3/envs/env_project_nfe/lib/python3.9/site-packages/selenium/webdriver/remote/webdriver.py:440\u001b[0m, in \u001b[0;36mWebDriver.execute\u001b[0;34m(self, driver_command, params)\u001b[0m\n\u001b[1;32m    438\u001b[0m response \u001b[38;5;241m=\u001b[39m \u001b[38;5;28mself\u001b[39m\u001b[38;5;241m.\u001b[39mcommand_executor\u001b[38;5;241m.\u001b[39mexecute(driver_command, params)\n\u001b[1;32m    439\u001b[0m \u001b[38;5;28;01mif\u001b[39;00m response:\n\u001b[0;32m--> 440\u001b[0m     \u001b[38;5;28;43mself\u001b[39;49m\u001b[38;5;241;43m.\u001b[39;49m\u001b[43merror_handler\u001b[49m\u001b[38;5;241;43m.\u001b[39;49m\u001b[43mcheck_response\u001b[49m\u001b[43m(\u001b[49m\u001b[43mresponse\u001b[49m\u001b[43m)\u001b[49m\n\u001b[1;32m    441\u001b[0m     response[\u001b[38;5;124m\"\u001b[39m\u001b[38;5;124mvalue\u001b[39m\u001b[38;5;124m\"\u001b[39m] \u001b[38;5;241m=\u001b[39m \u001b[38;5;28mself\u001b[39m\u001b[38;5;241m.\u001b[39m_unwrap_value(response\u001b[38;5;241m.\u001b[39mget(\u001b[38;5;124m\"\u001b[39m\u001b[38;5;124mvalue\u001b[39m\u001b[38;5;124m\"\u001b[39m, \u001b[38;5;28;01mNone\u001b[39;00m))\n\u001b[1;32m    442\u001b[0m     \u001b[38;5;28;01mreturn\u001b[39;00m response\n",
      "File \u001b[0;32m~/opt/anaconda3/envs/env_project_nfe/lib/python3.9/site-packages/selenium/webdriver/remote/errorhandler.py:245\u001b[0m, in \u001b[0;36mErrorHandler.check_response\u001b[0;34m(self, response)\u001b[0m\n\u001b[1;32m    243\u001b[0m         alert_text \u001b[38;5;241m=\u001b[39m value[\u001b[38;5;124m\"\u001b[39m\u001b[38;5;124malert\u001b[39m\u001b[38;5;124m\"\u001b[39m]\u001b[38;5;241m.\u001b[39mget(\u001b[38;5;124m\"\u001b[39m\u001b[38;5;124mtext\u001b[39m\u001b[38;5;124m\"\u001b[39m)\n\u001b[1;32m    244\u001b[0m     \u001b[38;5;28;01mraise\u001b[39;00m exception_class(message, screen, stacktrace, alert_text)  \u001b[38;5;66;03m# type: ignore[call-arg]  # mypy is not smart enough here\u001b[39;00m\n\u001b[0;32m--> 245\u001b[0m \u001b[38;5;28;01mraise\u001b[39;00m exception_class(message, screen, stacktrace)\n",
      "\u001b[0;31mElementClickInterceptedException\u001b[0m: Message: element click intercepted: Element <a ng-show=\"abrirLoginArapiraca || abrirLoginCanoas || abrirLoginLocalhost\" class=\"pricing_action text-center\" ng-click=\"abrirLogin()\" target=\"_blank\">...</a> is not clickable at point (322, 277). Other element would receive the click: <input type=\"text\" class=\"form-control\" id=\"USULOGIN\" placeholder=\"CPF/CNPJ do Prestador\" required=\"\" autofocus=\"\">\n  (Session info: chrome=113.0.5672.92)\nStacktrace:\n0   chromedriver                        0x00000001024ef8ac chromedriver + 4257964\n1   chromedriver                        0x00000001024e7f40 chromedriver + 4226880\n2   chromedriver                        0x00000001021249d4 chromedriver + 281044\n3   chromedriver                        0x0000000102166134 chromedriver + 549172\n4   chromedriver                        0x0000000102164094 chromedriver + 540820\n5   chromedriver                        0x0000000102161fac chromedriver + 532396\n6   chromedriver                        0x000000010216137c chromedriver + 529276\n7   chromedriver                        0x0000000102155984 chromedriver + 481668\n8   chromedriver                        0x00000001021551cc chromedriver + 479692\n9   chromedriver                        0x00000001021967e4 chromedriver + 747492\n10  chromedriver                        0x000000010215398c chromedriver + 473484\n11  chromedriver                        0x000000010215498c chromedriver + 477580\n12  chromedriver                        0x00000001024ae900 chromedriver + 3991808\n13  chromedriver                        0x00000001024b2354 chromedriver + 4006740\n14  chromedriver                        0x00000001024b2940 chromedriver + 4008256\n15  chromedriver                        0x00000001024b833c chromedriver + 4031292\n16  chromedriver                        0x00000001024b2f34 chromedriver + 4009780\n17  chromedriver                        0x000000010248b490 chromedriver + 3847312\n18  chromedriver                        0x00000001024d09f4 chromedriver + 4131316\n19  chromedriver                        0x00000001024d0b4c chromedriver + 4131660\n20  chromedriver                        0x00000001024e1230 chromedriver + 4198960\n21  libsystem_pthread.dylib             0x000000018dc0ffa8 _pthread_start + 148\n22  libsystem_pthread.dylib             0x000000018dc0ada0 thread_start + 8\n"
     ]
    }
   ],
   "source": [
    "sign_in_link = driver.find_element(\"link text\", \"Login Empresa / Autônomo\")\n",
    "sign_in_link.click()\n",
    "# funciona ate aqui acima\n",
    "# clica no botao de login e abre a caixa de login\n",
    "\n",
    "#a parte abaixo foram varios testes mas ainda nao consegui fazer ele clicar/preencher o local\n",
    "#da erro de click interceptado\n",
    " \n",
    "\n",
    "username = WebDriverWait(driver,15).until(EC.element_to_be_clickable(By.ID, \"USULOGIN\"))\n",
    "# password = WebDriverWait(driver,20).until(EC.element_to_be_clickable(By.ID, \"USUPASSWD\"))\n",
    "\n",
    "# username.send_keys('username_news')\n",
    "# password.send_keys('password_news')\n",
    "\n",
    "# submit_button = WebDriverWait(driver, 15).until(EC.element_to_be_clickable((By.XPATH, \"//button[text()='Acessar']\")))\n",
    "# username.send_keys(cpf_cnpj)\n",
    "\n",
    "# driver.find_element(By.CSS_SELECTOR,'button.btn-signin').click()\n"
   ]
  },
  {
   "cell_type": "code",
   "execution_count": null,
   "id": "9ccdeeb1",
   "metadata": {
    "ExecuteTime": {
     "end_time": "2023-05-10T23:42:30.480260Z",
     "start_time": "2023-05-10T23:42:30.458041Z"
    }
   },
   "outputs": [],
   "source": []
  },
  {
   "cell_type": "code",
   "execution_count": null,
   "id": "16def134",
   "metadata": {},
   "outputs": [],
   "source": []
  }
 ],
 "metadata": {
  "kernelspec": {
   "display_name": "Python 3 (ipykernel)",
   "language": "python",
   "name": "python3"
  },
  "language_info": {
   "codemirror_mode": {
    "name": "ipython",
    "version": 3
   },
   "file_extension": ".py",
   "mimetype": "text/x-python",
   "name": "python",
   "nbconvert_exporter": "python",
   "pygments_lexer": "ipython3",
   "version": "3.9.16"
  }
 },
 "nbformat": 4,
 "nbformat_minor": 5
}
